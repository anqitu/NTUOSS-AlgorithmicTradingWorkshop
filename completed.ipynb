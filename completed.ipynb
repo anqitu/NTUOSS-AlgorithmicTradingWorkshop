{
  "nbformat": 4,
  "nbformat_minor": 0,
  "metadata": {
    "colab": {
      "name": "completed.ipynb",
      "version": "0.3.2",
      "provenance": [],
      "collapsed_sections": [],
      "include_colab_link": true
    },
    "kernelspec": {
      "name": "python3",
      "display_name": "Python 3"
    },
    "accelerator": "GPU"
  },
  "cells": [
    {
      "cell_type": "markdown",
      "metadata": {
        "id": "view-in-github",
        "colab_type": "text"
      },
      "source": [
        "<a href=\"https://colab.research.google.com/github/anqitu/NTUOSS-AlgorithmicTradingWorkshop/blob/master/completed.ipynb\" target=\"_parent\"><img src=\"https://colab.research.google.com/assets/colab-badge.svg\" alt=\"Open In Colab\"/></a>"
      ]
    },
    {
      "metadata": {
        "id": "By19UtzYwazE",
        "colab_type": "text"
      },
      "cell_type": "markdown",
      "source": [
        "## Task 1 - Set Up"
      ]
    },
    {
      "metadata": {
        "id": "-CMJIzQOFe8_",
        "colab_type": "text"
      },
      "cell_type": "markdown",
      "source": [
        "#### 1.1 Import Necessary Libraries"
      ]
    },
    {
      "metadata": {
        "id": "rZeeJnvYMwWD",
        "colab_type": "code",
        "colab": {}
      },
      "cell_type": "code",
      "source": [
        "# TASK 1.1: Import libraries\n",
        "import pandas as pd\n",
        "import numpy as np\n",
        "import matplotlib.pyplot as plt\n",
        "%matplotlib inline\n",
        "plt.style.use('fivethirtyeight')\n",
        "\n",
        "# ignore warnings\n",
        "import warnings\n",
        "warnings.filterwarnings('ignore')"
      ],
      "execution_count": 0,
      "outputs": []
    },
    {
      "metadata": {
        "id": "zm8qPmppFTb6",
        "colab_type": "text"
      },
      "cell_type": "markdown",
      "source": [
        "#### 1.2 Import Financial Data"
      ]
    },
    {
      "metadata": {
        "id": "DjqlyKrwEc4q",
        "colab_type": "code",
        "colab": {}
      },
      "cell_type": "code",
      "source": [
        "# TASK 1.2: Import Apple's stock market price from 2006 to 2019\n",
        "import pandas_datareader as pdr\n",
        "import datetime \n",
        "aapl = pdr.get_data_yahoo('AAPL', \n",
        "                          start=datetime.datetime(2006, 10, 1), \n",
        "                          end=datetime.datetime(2019, 1, 1))\n"
      ],
      "execution_count": 0,
      "outputs": []
    },
    {
      "metadata": {
        "id": "XBTpCAE9NDLW",
        "colab_type": "text"
      },
      "cell_type": "markdown",
      "source": [
        "## Task 2 - Work with Pandas Dataframe"
      ]
    },
    {
      "metadata": {
        "id": "D-XgQOa0ORYK",
        "colab_type": "text"
      },
      "cell_type": "markdown",
      "source": [
        "#### 2.1 Check Data"
      ]
    },
    {
      "metadata": {
        "id": "FC9fkBuvKkQP",
        "colab_type": "code",
        "colab": {}
      },
      "cell_type": "code",
      "source": [
        "# Task 2.1.1 Check the structure of a Pandas Dataframe\n",
        "print(aapl)"
      ],
      "execution_count": 0,
      "outputs": []
    },
    {
      "metadata": {
        "id": "IuiwbiRyIwJX",
        "colab_type": "code",
        "colab": {}
      },
      "cell_type": "code",
      "source": [
        "# Task 2.1.2 Use the describe() function to get some useful summary statistics about your data\n",
        "print(aapl.describe(include = 'all'))"
      ],
      "execution_count": 0,
      "outputs": []
    },
    {
      "metadata": {
        "id": "Kk5hzQjZGDkB",
        "colab_type": "code",
        "colab": {}
      },
      "cell_type": "code",
      "source": [
        "# Task 2.1.3 Check the general information of the dataframe\n",
        "print(aapl.info())"
      ],
      "execution_count": 0,
      "outputs": []
    },
    {
      "metadata": {
        "id": "_qxD9Nx_Ee_w",
        "colab_type": "code",
        "colab": {}
      },
      "cell_type": "code",
      "source": [
        "# Task 2.1.4 Check the shape, columns and index of a Pandas Dataframe\n",
        "print(aapl.shape)\n",
        "print(aapl.columns)\n",
        "print(aapl.index)"
      ],
      "execution_count": 0,
      "outputs": []
    },
    {
      "metadata": {
        "id": "l9xxRBCbFy7Z",
        "colab_type": "code",
        "colab": {}
      },
      "cell_type": "code",
      "source": [
        "# Task 2.1.5 Check first few rows of dataframe\n",
        "print(aapl.head())"
      ],
      "execution_count": 0,
      "outputs": []
    },
    {
      "metadata": {
        "id": "vL_GM3zmGCVb",
        "colab_type": "code",
        "colab": {}
      },
      "cell_type": "code",
      "source": [
        "# Task 2.1.6 Check last 10 rows of dataframe\n",
        "print(aapl.tail(10))"
      ],
      "execution_count": 0,
      "outputs": []
    },
    {
      "metadata": {
        "id": "KiIHtirsIuUk",
        "colab_type": "code",
        "colab": {}
      },
      "cell_type": "code",
      "source": [
        "# Task 2.1.7 Check the existence of null values\n",
        "print(aapl.isnull().sum())"
      ],
      "execution_count": 0,
      "outputs": []
    },
    {
      "metadata": {
        "id": "uEeYze0aOenf",
        "colab_type": "text"
      },
      "cell_type": "markdown",
      "source": [
        "#### 2.2 Clean Data"
      ]
    },
    {
      "metadata": {
        "id": "RWOKpc2cJZHd",
        "colab_type": "code",
        "colab": {}
      },
      "cell_type": "code",
      "source": [
        "# Task 2.2.1 Drop a column\n",
        "aapl = aapl.drop(columns = ['High', 'Low'])"
      ],
      "execution_count": 0,
      "outputs": []
    },
    {
      "metadata": {
        "id": "JsS04trEJbSv",
        "colab_type": "code",
        "colab": {}
      },
      "cell_type": "code",
      "source": [
        "# Check the column has been dropped\n",
        "print(aapl.head())"
      ],
      "execution_count": 0,
      "outputs": []
    },
    {
      "metadata": {
        "id": "5bir_SfmJq_z",
        "colab_type": "code",
        "colab": {}
      },
      "cell_type": "code",
      "source": [
        "# Task 2.2.2 Keep wanted columns\n",
        "aapl = aapl[['Close', 'Adj Close']]"
      ],
      "execution_count": 0,
      "outputs": []
    },
    {
      "metadata": {
        "id": "Kl8uRyB8Jtn3",
        "colab_type": "code",
        "colab": {}
      },
      "cell_type": "code",
      "source": [
        "print(aapl.head())"
      ],
      "execution_count": 0,
      "outputs": []
    },
    {
      "metadata": {
        "id": "FAU-i1v5PMBz",
        "colab_type": "text"
      },
      "cell_type": "markdown",
      "source": [
        "## Task 3 - Visualize Data (Exploratory Data Analysis)"
      ]
    },
    {
      "metadata": {
        "id": "UoNTi8YkQ0LJ",
        "colab_type": "code",
        "colab": {}
      },
      "cell_type": "code",
      "source": [
        "# Task 3.1 Plot the closing price\n",
        "aapl['Close'].plot()"
      ],
      "execution_count": 0,
      "outputs": []
    },
    {
      "metadata": {
        "id": "zB5H-kYgRbzV",
        "colab_type": "code",
        "colab": {}
      },
      "cell_type": "code",
      "source": [
        "# Task 3.2 Plot the closing price with some nice adjustments\n",
        "aapl['Close'].plot(figsize = (15,5), linewidth = 1, legend = True)"
      ],
      "execution_count": 0,
      "outputs": []
    },
    {
      "metadata": {
        "id": "4h1DMUVwR3WL",
        "colab_type": "code",
        "colab": {}
      },
      "cell_type": "code",
      "source": [
        "# Task 3.2 Plot the closing and adjusted closing prices\n",
        "aapl['Close'].plot(figsize = (15,5), linewidth = 1, legend = True)\n",
        "aapl['Adj Close'].plot(figsize = (15,5), linewidth = 1, legend = True)\n",
        "plt.legend(['Close', 'Adj Close'])\n",
        "plt.title('Apple Stock Price')\n",
        "plt.show()"
      ],
      "execution_count": 0,
      "outputs": []
    },
    {
      "metadata": {
        "id": "64-Ghxz6O0Fl",
        "colab_type": "text"
      },
      "cell_type": "markdown",
      "source": [
        "## Task 4 - Build Your Trading Strategy"
      ]
    },
    {
      "metadata": {
        "id": "cF8Ob9GfIzgo",
        "colab_type": "code",
        "colab": {}
      },
      "cell_type": "code",
      "source": [
        "# Task 4.1 Initialize the short and long windows\n",
        "short_window = 50\n",
        "long_window = 100"
      ],
      "execution_count": 0,
      "outputs": []
    },
    {
      "metadata": {
        "id": "J6vcaS7A_zLQ",
        "colab_type": "text"
      },
      "cell_type": "markdown",
      "source": [
        ""
      ]
    },
    {
      "metadata": {
        "id": "tHH6pix-JQBR",
        "colab_type": "code",
        "colab": {}
      },
      "cell_type": "code",
      "source": [
        "# Task 4.2 Create moving averages over the short window\n",
        "aapl['short_ma'] = aapl['Close'].rolling(window = short_window, min_periods = 1).mean()\n",
        "aapl['long_ma'] = aapl['Close'].rolling(window = long_window, min_periods = 1).mean()"
      ],
      "execution_count": 0,
      "outputs": []
    },
    {
      "metadata": {
        "id": "myB8WW8NJ92B",
        "colab_type": "code",
        "colab": {}
      },
      "cell_type": "code",
      "source": [
        "# Check the dataframe\n",
        "aapl"
      ],
      "execution_count": 0,
      "outputs": []
    },
    {
      "metadata": {
        "id": "bx4UIzBtKHfZ",
        "colab_type": "code",
        "colab": {}
      },
      "cell_type": "code",
      "source": [
        "# Task 4.3 Initilize as 0\n",
        "aapl['higher_short_ma'] = 0"
      ],
      "execution_count": 0,
      "outputs": []
    },
    {
      "metadata": {
        "id": "OpoHxw96SpRQ",
        "colab_type": "code",
        "colab": {}
      },
      "cell_type": "code",
      "source": [
        "# Task 4.4 Set 1 for rows where short_ma is higher\n",
        "aapl['higher_short_ma'][short_window:] = np.where(aapl['short_ma'][short_window:] > aapl['long_ma'][short_window:], 1, 0)   "
      ],
      "execution_count": 0,
      "outputs": []
    },
    {
      "metadata": {
        "id": "-6VT3ee9KOAc",
        "colab_type": "code",
        "colab": {}
      },
      "cell_type": "code",
      "source": [
        "# Task 4.5 Print rows where higher_short_ma is of value 1\n",
        "aapl[aapl['higher_short_ma'] == 1]"
      ],
      "execution_count": 0,
      "outputs": []
    },
    {
      "metadata": {
        "id": "d0W2qZIkKMqX",
        "colab_type": "code",
        "colab": {}
      },
      "cell_type": "code",
      "source": [
        "# Task 4.6 Generate trading signals\n",
        "aapl['Signal'] = aapl['higher_short_ma'].diff()"
      ],
      "execution_count": 0,
      "outputs": []
    },
    {
      "metadata": {
        "id": "XVGVx0Q9qQGY",
        "colab_type": "code",
        "colab": {}
      },
      "cell_type": "code",
      "source": [
        "# Check days when there is a trading signal\n",
        "aapl[aapl['Signal'] != 0]"
      ],
      "execution_count": 0,
      "outputs": []
    },
    {
      "metadata": {
        "id": "ZVDuZe8WrPIQ",
        "colab_type": "code",
        "colab": {}
      },
      "cell_type": "code",
      "source": [
        "# Check the data in December of 2006 when buying happens\n",
        "aapl['2006-12':].head(15)"
      ],
      "execution_count": 0,
      "outputs": []
    },
    {
      "metadata": {
        "id": "hYEgf48hrdVg",
        "colab_type": "code",
        "colab": {}
      },
      "cell_type": "code",
      "source": [
        "# Check the data in February of 2008 when selling happens\n",
        "aapl['2008-02':].head(15)"
      ],
      "execution_count": 0,
      "outputs": []
    },
    {
      "metadata": {
        "id": "TLwgTbFSKE0K",
        "colab_type": "code",
        "colab": {}
      },
      "cell_type": "code",
      "source": [
        "## Task 4.6 plot the short and long moving averages, together with the buy and sell signals\n",
        "\n",
        "# Initialize the plot figure\n",
        "fig = plt.figure(figsize = (15,5))\n",
        "\n",
        "# Add a subplot and label for y-axis\n",
        "ax1 = fig.add_subplot(111,  ylabel='Price')\n",
        "\n",
        "# Plot the closing price\n",
        "aapl['Close'].plot(ax = ax1, color = 'r', linewidth = 1, legend = True)\n",
        "\n",
        "# Plot the short and long moving averages\n",
        "aapl[['short_ma', 'long_ma']].plot(ax = ax1, linewidth = 1, legend = True)\n",
        "\n",
        "# Plot the buy signals\n",
        "ax1.plot(aapl[aapl['Signal'] == 1].index, \n",
        "         aapl[aapl['Signal'] == 1]['short_ma'], \n",
        "         '^', markersize = 10, color = 'r', alpha = 0.6)\n",
        "         \n",
        "# Plot the sell signals\n",
        "ax1.plot(aapl[aapl['Signal'] == -1].index, \n",
        "         aapl[aapl['Signal'] == -1]['short_ma'],\n",
        "         'v', markersize = 10, color = 'g', alpha = 0.6)\n",
        "         \n",
        "# Show the plot\n",
        "plt.show()"
      ],
      "execution_count": 0,
      "outputs": []
    },
    {
      "metadata": {
        "id": "W9VNEa2jPErP",
        "colab_type": "text"
      },
      "cell_type": "markdown",
      "source": [
        "## Task 5 - Test Your Strategy"
      ]
    },
    {
      "metadata": {
        "id": "rUBg3s-EJ685",
        "colab_type": "code",
        "colab": {}
      },
      "cell_type": "code",
      "source": [
        "# Task 5.1 Imagine you have 1 million\n",
        "initial_capital= 1000000"
      ],
      "execution_count": 0,
      "outputs": []
    },
    {
      "metadata": {
        "id": "FgOjbCSnXChY",
        "colab_type": "code",
        "colab": {}
      },
      "cell_type": "code",
      "source": [
        "# Task 5.2 Buy or Sell a 5k shares on the days that the signal is 1 or -1\n",
        "aapl['Order'] = 5000 * aapl['Signal']"
      ],
      "execution_count": 0,
      "outputs": []
    },
    {
      "metadata": {
        "id": "m9lL3IYphJTp",
        "colab_type": "code",
        "colab": {}
      },
      "cell_type": "code",
      "source": [
        "# Task 5.3 Calculate the transaction price paying (buy stocks) or receiving (sell stocks)\n",
        "aapl['Transaction'] = aapl['Order'].multiply(aapl['Adj Close'], axis=0)"
      ],
      "execution_count": 0,
      "outputs": []
    },
    {
      "metadata": {
        "id": "UiMbddnmmXJF",
        "colab_type": "code",
        "colab": {}
      },
      "cell_type": "code",
      "source": [
        "# Check data\n",
        "aapl[aapl['Transaction'] != 0]"
      ],
      "execution_count": 0,
      "outputs": []
    },
    {
      "metadata": {
        "id": "xWX7JOToYMQ2",
        "colab_type": "code",
        "colab": {}
      },
      "cell_type": "code",
      "source": [
        "# Task 5.4 Calculate the number in shares owned \n",
        "aapl['Shares'] = aapl['Order'].cumsum()"
      ],
      "execution_count": 0,
      "outputs": []
    },
    {
      "metadata": {
        "id": "i6SWrr23YgpL",
        "colab_type": "code",
        "colab": {}
      },
      "cell_type": "code",
      "source": [
        "# Task 5.5 Calculate the value of shares owned \n",
        "aapl['Holdings'] = aapl['Shares'].multiply(aapl['Adj Close'], axis=0)"
      ],
      "execution_count": 0,
      "outputs": []
    },
    {
      "metadata": {
        "id": "c6UiDdvDZIfp",
        "colab_type": "code",
        "colab": {}
      },
      "cell_type": "code",
      "source": [
        "# Task 5.6 Calculate the value of cash owned \n",
        "aapl['Cash'] = initial_capital - (aapl['Transaction']).cumsum()   "
      ],
      "execution_count": 0,
      "outputs": []
    },
    {
      "metadata": {
        "id": "AxlkNJu1mt1q",
        "colab_type": "code",
        "colab": {}
      },
      "cell_type": "code",
      "source": [
        "# Check the data in December of 2006 when buying happens\n",
        "aapl['2006-12':].head(15)"
      ],
      "execution_count": 0,
      "outputs": []
    },
    {
      "metadata": {
        "id": "371LUuqzuGYe",
        "colab_type": "code",
        "colab": {}
      },
      "cell_type": "code",
      "source": [
        "# Check the data in February of 2008 when selling happens\n",
        "aapl['2008-02':].head(15)"
      ],
      "execution_count": 0,
      "outputs": []
    },
    {
      "metadata": {
        "id": "EcXt3_SDZ-tF",
        "colab_type": "code",
        "colab": {}
      },
      "cell_type": "code",
      "source": [
        "# Task 5.7 Calculate the total value of your portfolio\n",
        "aapl['Total'] = aapl['Cash'] + aapl['Holdings']\n"
      ],
      "execution_count": 0,
      "outputs": []
    },
    {
      "metadata": {
        "id": "EHuflY_busrA",
        "colab_type": "code",
        "colab": {}
      },
      "cell_type": "code",
      "source": [
        "# Check the data in December of 2006 when buying happens\n",
        "aapl['2006-12':].head(15)"
      ],
      "execution_count": 0,
      "outputs": []
    },
    {
      "metadata": {
        "id": "oBVVdAj4Lopj",
        "colab_type": "code",
        "colab": {}
      },
      "cell_type": "code",
      "source": [
        "# Task 5.8 Visualize the portfolio value or over the years\n",
        "\n",
        "# Create a figure\n",
        "fig = plt.figure(figsize = (15,5))\n",
        "\n",
        "ax1 = fig.add_subplot(111, ylabel='Portfolio value')\n",
        "\n",
        "# Plot the equity curve\n",
        "aapl['Total'].plot(ax = ax1, linewidth = 1)\n",
        "\n",
        "ax1.plot(aapl[aapl['Signal'] == 1].index, \n",
        "         aapl[aapl['Signal'] == 1.0]['Total'],\n",
        "         '^', markersize = 10, color = 'r', alpha = 0.6)\n",
        "ax1.plot(aapl[aapl['Signal'] == -1].index, \n",
        "         aapl[aapl['Signal'] == -1.0]['Total'],\n",
        "         'v', markersize = 10, color = 'g', alpha = 0.6)\n",
        "\n",
        "# Show the plot\n",
        "plt.show()"
      ],
      "execution_count": 0,
      "outputs": []
    },
    {
      "metadata": {
        "id": "jzSPhUilI3p1",
        "colab_type": "code",
        "colab": {}
      },
      "cell_type": "code",
      "source": [
        "# Task 5.9 Visualize the portfolio value or over the years\n",
        "\n",
        "# Resample `aapl` to 12 months, take last observation as value \n",
        "yearly = aapl['Total'].resample('Y', convention='end').apply(lambda x: x[-1])\n",
        "print(yearly)"
      ],
      "execution_count": 0,
      "outputs": []
    },
    {
      "metadata": {
        "id": "4j1L1JunJx2J",
        "colab_type": "code",
        "colab": {}
      },
      "cell_type": "code",
      "source": [
        "# Task 5.10 Calculate the yearly return\n",
        "yearly.pct_change()"
      ],
      "execution_count": 0,
      "outputs": []
    },
    {
      "metadata": {
        "id": "gMafPOj2KP_a",
        "colab_type": "code",
        "colab": {}
      },
      "cell_type": "code",
      "source": [
        "# Task 5.11 Plot the yearly return\n",
        "yearly.pct_change().plot(figsize = (15,5))"
      ],
      "execution_count": 0,
      "outputs": []
    },
    {
      "metadata": {
        "id": "rfAkQAvkMNIq",
        "colab_type": "code",
        "colab": {}
      },
      "cell_type": "code",
      "source": [
        "# aapl['Total'].plot(figsize = (15,5), linewidth = 1, legend = True)\n",
        "# googl['Total'].plot(figsize = (15,5), linewidth = 1, legend = True)\n",
        "# ibm['Total'].plot(figsize = (15,5), linewidth = 1, legend = True)\n",
        "# amzn['Total'].plot(figsize = (15,5), linewidth = 1, legend = True)\n",
        "# plt.legend(['AAPL', 'GOOGL', 'IBM', 'AMZN'])\n",
        "# plt.title('Portfolio Value')\n",
        "# plt.show()"
      ],
      "execution_count": 0,
      "outputs": []
    }
  ]
}